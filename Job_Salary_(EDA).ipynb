{
  "nbformat": 4,
  "nbformat_minor": 0,
  "metadata": {
    "colab": {
      "provenance": [],
      "authorship_tag": "ABX9TyMAXSAoyMwVIP+9A9gVqMiu",
      "include_colab_link": true
    },
    "kernelspec": {
      "name": "python3",
      "display_name": "Python 3"
    },
    "language_info": {
      "name": "python"
    }
  },
  "cells": [
    {
      "cell_type": "markdown",
      "metadata": {
        "id": "view-in-github",
        "colab_type": "text"
      },
      "source": [
        "<a href=\"https://colab.research.google.com/github/saltfish259/Salaries-for-Data-Science-jobs-EDA-/blob/main/Job_Salary_(EDA).ipynb\" target=\"_parent\"><img src=\"https://colab.research.google.com/assets/colab-badge.svg\" alt=\"Open In Colab\"/></a>"
      ]
    },
    {
      "cell_type": "code",
      "execution_count": null,
      "metadata": {
        "colab": {
          "base_uri": "https://localhost:8080/"
        },
        "id": "BW3Gxxm5yYyv",
        "outputId": "0ef5c243-02e7-4032-991d-75992835d85f"
      },
      "outputs": [
        {
          "output_type": "stream",
          "name": "stdout",
          "text": [
            "Path to dataset files: /kaggle/input/salaries-for-data-science-jobs\n"
          ]
        }
      ],
      "source": [
        "import kagglehub\n",
        "\n",
        "# Download latest version\n",
        "path = kagglehub.dataset_download(\"adilshamim8/salaries-for-data-science-jobs\")\n",
        "\n",
        "print(\"Path to dataset files:\", path)"
      ]
    },
    {
      "cell_type": "markdown",
      "source": [
        "## DATA PREP"
      ],
      "metadata": {
        "id": "f9Jlhk0q0SCC"
      }
    },
    {
      "cell_type": "code",
      "source": [
        "import pandas as pd"
      ],
      "metadata": {
        "id": "kMzc066mycrb"
      },
      "execution_count": null,
      "outputs": []
    },
    {
      "cell_type": "code",
      "source": [
        "data = pd.read_csv(\"/kaggle/input/salaries-for-data-science-jobs/salaries.csv\")"
      ],
      "metadata": {
        "id": "Z4-v9GJZyec6"
      },
      "execution_count": null,
      "outputs": []
    },
    {
      "cell_type": "code",
      "source": [
        "data.head()"
      ],
      "metadata": {
        "colab": {
          "base_uri": "https://localhost:8080/",
          "height": 206
        },
        "id": "AVIph-8ZyjxV",
        "outputId": "475bc4fc-4b64-4da9-feb1-cd0eac7106bd"
      },
      "execution_count": null,
      "outputs": [
        {
          "output_type": "execute_result",
          "data": {
            "text/plain": [
              "   work_year experience_level employment_type       job_title  salary  \\\n",
              "0       2025               EX              FT    Head of Data  348516   \n",
              "1       2025               EX              FT    Head of Data  232344   \n",
              "2       2025               SE              FT  Data Scientist  145400   \n",
              "3       2025               SE              FT  Data Scientist   81600   \n",
              "4       2025               MI              FT        Engineer  160000   \n",
              "\n",
              "  salary_currency  salary_in_usd employee_residence  remote_ratio  \\\n",
              "0             USD         348516                 US             0   \n",
              "1             USD         232344                 US             0   \n",
              "2             USD         145400                 US             0   \n",
              "3             USD          81600                 US             0   \n",
              "4             USD         160000                 US           100   \n",
              "\n",
              "  company_location company_size  \n",
              "0               US            M  \n",
              "1               US            M  \n",
              "2               US            M  \n",
              "3               US            M  \n",
              "4               US            M  "
            ],
            "text/html": [
              "\n",
              "  <div id=\"df-359a74a9-d265-4313-a019-d6623ded4873\" class=\"colab-df-container\">\n",
              "    <div>\n",
              "<style scoped>\n",
              "    .dataframe tbody tr th:only-of-type {\n",
              "        vertical-align: middle;\n",
              "    }\n",
              "\n",
              "    .dataframe tbody tr th {\n",
              "        vertical-align: top;\n",
              "    }\n",
              "\n",
              "    .dataframe thead th {\n",
              "        text-align: right;\n",
              "    }\n",
              "</style>\n",
              "<table border=\"1\" class=\"dataframe\">\n",
              "  <thead>\n",
              "    <tr style=\"text-align: right;\">\n",
              "      <th></th>\n",
              "      <th>work_year</th>\n",
              "      <th>experience_level</th>\n",
              "      <th>employment_type</th>\n",
              "      <th>job_title</th>\n",
              "      <th>salary</th>\n",
              "      <th>salary_currency</th>\n",
              "      <th>salary_in_usd</th>\n",
              "      <th>employee_residence</th>\n",
              "      <th>remote_ratio</th>\n",
              "      <th>company_location</th>\n",
              "      <th>company_size</th>\n",
              "    </tr>\n",
              "  </thead>\n",
              "  <tbody>\n",
              "    <tr>\n",
              "      <th>0</th>\n",
              "      <td>2025</td>\n",
              "      <td>EX</td>\n",
              "      <td>FT</td>\n",
              "      <td>Head of Data</td>\n",
              "      <td>348516</td>\n",
              "      <td>USD</td>\n",
              "      <td>348516</td>\n",
              "      <td>US</td>\n",
              "      <td>0</td>\n",
              "      <td>US</td>\n",
              "      <td>M</td>\n",
              "    </tr>\n",
              "    <tr>\n",
              "      <th>1</th>\n",
              "      <td>2025</td>\n",
              "      <td>EX</td>\n",
              "      <td>FT</td>\n",
              "      <td>Head of Data</td>\n",
              "      <td>232344</td>\n",
              "      <td>USD</td>\n",
              "      <td>232344</td>\n",
              "      <td>US</td>\n",
              "      <td>0</td>\n",
              "      <td>US</td>\n",
              "      <td>M</td>\n",
              "    </tr>\n",
              "    <tr>\n",
              "      <th>2</th>\n",
              "      <td>2025</td>\n",
              "      <td>SE</td>\n",
              "      <td>FT</td>\n",
              "      <td>Data Scientist</td>\n",
              "      <td>145400</td>\n",
              "      <td>USD</td>\n",
              "      <td>145400</td>\n",
              "      <td>US</td>\n",
              "      <td>0</td>\n",
              "      <td>US</td>\n",
              "      <td>M</td>\n",
              "    </tr>\n",
              "    <tr>\n",
              "      <th>3</th>\n",
              "      <td>2025</td>\n",
              "      <td>SE</td>\n",
              "      <td>FT</td>\n",
              "      <td>Data Scientist</td>\n",
              "      <td>81600</td>\n",
              "      <td>USD</td>\n",
              "      <td>81600</td>\n",
              "      <td>US</td>\n",
              "      <td>0</td>\n",
              "      <td>US</td>\n",
              "      <td>M</td>\n",
              "    </tr>\n",
              "    <tr>\n",
              "      <th>4</th>\n",
              "      <td>2025</td>\n",
              "      <td>MI</td>\n",
              "      <td>FT</td>\n",
              "      <td>Engineer</td>\n",
              "      <td>160000</td>\n",
              "      <td>USD</td>\n",
              "      <td>160000</td>\n",
              "      <td>US</td>\n",
              "      <td>100</td>\n",
              "      <td>US</td>\n",
              "      <td>M</td>\n",
              "    </tr>\n",
              "  </tbody>\n",
              "</table>\n",
              "</div>\n",
              "    <div class=\"colab-df-buttons\">\n",
              "\n",
              "  <div class=\"colab-df-container\">\n",
              "    <button class=\"colab-df-convert\" onclick=\"convertToInteractive('df-359a74a9-d265-4313-a019-d6623ded4873')\"\n",
              "            title=\"Convert this dataframe to an interactive table.\"\n",
              "            style=\"display:none;\">\n",
              "\n",
              "  <svg xmlns=\"http://www.w3.org/2000/svg\" height=\"24px\" viewBox=\"0 -960 960 960\">\n",
              "    <path d=\"M120-120v-720h720v720H120Zm60-500h600v-160H180v160Zm220 220h160v-160H400v160Zm0 220h160v-160H400v160ZM180-400h160v-160H180v160Zm440 0h160v-160H620v160ZM180-180h160v-160H180v160Zm440 0h160v-160H620v160Z\"/>\n",
              "  </svg>\n",
              "    </button>\n",
              "\n",
              "  <style>\n",
              "    .colab-df-container {\n",
              "      display:flex;\n",
              "      gap: 12px;\n",
              "    }\n",
              "\n",
              "    .colab-df-convert {\n",
              "      background-color: #E8F0FE;\n",
              "      border: none;\n",
              "      border-radius: 50%;\n",
              "      cursor: pointer;\n",
              "      display: none;\n",
              "      fill: #1967D2;\n",
              "      height: 32px;\n",
              "      padding: 0 0 0 0;\n",
              "      width: 32px;\n",
              "    }\n",
              "\n",
              "    .colab-df-convert:hover {\n",
              "      background-color: #E2EBFA;\n",
              "      box-shadow: 0px 1px 2px rgba(60, 64, 67, 0.3), 0px 1px 3px 1px rgba(60, 64, 67, 0.15);\n",
              "      fill: #174EA6;\n",
              "    }\n",
              "\n",
              "    .colab-df-buttons div {\n",
              "      margin-bottom: 4px;\n",
              "    }\n",
              "\n",
              "    [theme=dark] .colab-df-convert {\n",
              "      background-color: #3B4455;\n",
              "      fill: #D2E3FC;\n",
              "    }\n",
              "\n",
              "    [theme=dark] .colab-df-convert:hover {\n",
              "      background-color: #434B5C;\n",
              "      box-shadow: 0px 1px 3px 1px rgba(0, 0, 0, 0.15);\n",
              "      filter: drop-shadow(0px 1px 2px rgba(0, 0, 0, 0.3));\n",
              "      fill: #FFFFFF;\n",
              "    }\n",
              "  </style>\n",
              "\n",
              "    <script>\n",
              "      const buttonEl =\n",
              "        document.querySelector('#df-359a74a9-d265-4313-a019-d6623ded4873 button.colab-df-convert');\n",
              "      buttonEl.style.display =\n",
              "        google.colab.kernel.accessAllowed ? 'block' : 'none';\n",
              "\n",
              "      async function convertToInteractive(key) {\n",
              "        const element = document.querySelector('#df-359a74a9-d265-4313-a019-d6623ded4873');\n",
              "        const dataTable =\n",
              "          await google.colab.kernel.invokeFunction('convertToInteractive',\n",
              "                                                    [key], {});\n",
              "        if (!dataTable) return;\n",
              "\n",
              "        const docLinkHtml = 'Like what you see? Visit the ' +\n",
              "          '<a target=\"_blank\" href=https://colab.research.google.com/notebooks/data_table.ipynb>data table notebook</a>'\n",
              "          + ' to learn more about interactive tables.';\n",
              "        element.innerHTML = '';\n",
              "        dataTable['output_type'] = 'display_data';\n",
              "        await google.colab.output.renderOutput(dataTable, element);\n",
              "        const docLink = document.createElement('div');\n",
              "        docLink.innerHTML = docLinkHtml;\n",
              "        element.appendChild(docLink);\n",
              "      }\n",
              "    </script>\n",
              "  </div>\n",
              "\n",
              "\n",
              "    <div id=\"df-ad86fd28-f7d9-48c0-b3a0-780be8a4a42a\">\n",
              "      <button class=\"colab-df-quickchart\" onclick=\"quickchart('df-ad86fd28-f7d9-48c0-b3a0-780be8a4a42a')\"\n",
              "                title=\"Suggest charts\"\n",
              "                style=\"display:none;\">\n",
              "\n",
              "<svg xmlns=\"http://www.w3.org/2000/svg\" height=\"24px\"viewBox=\"0 0 24 24\"\n",
              "     width=\"24px\">\n",
              "    <g>\n",
              "        <path d=\"M19 3H5c-1.1 0-2 .9-2 2v14c0 1.1.9 2 2 2h14c1.1 0 2-.9 2-2V5c0-1.1-.9-2-2-2zM9 17H7v-7h2v7zm4 0h-2V7h2v10zm4 0h-2v-4h2v4z\"/>\n",
              "    </g>\n",
              "</svg>\n",
              "      </button>\n",
              "\n",
              "<style>\n",
              "  .colab-df-quickchart {\n",
              "      --bg-color: #E8F0FE;\n",
              "      --fill-color: #1967D2;\n",
              "      --hover-bg-color: #E2EBFA;\n",
              "      --hover-fill-color: #174EA6;\n",
              "      --disabled-fill-color: #AAA;\n",
              "      --disabled-bg-color: #DDD;\n",
              "  }\n",
              "\n",
              "  [theme=dark] .colab-df-quickchart {\n",
              "      --bg-color: #3B4455;\n",
              "      --fill-color: #D2E3FC;\n",
              "      --hover-bg-color: #434B5C;\n",
              "      --hover-fill-color: #FFFFFF;\n",
              "      --disabled-bg-color: #3B4455;\n",
              "      --disabled-fill-color: #666;\n",
              "  }\n",
              "\n",
              "  .colab-df-quickchart {\n",
              "    background-color: var(--bg-color);\n",
              "    border: none;\n",
              "    border-radius: 50%;\n",
              "    cursor: pointer;\n",
              "    display: none;\n",
              "    fill: var(--fill-color);\n",
              "    height: 32px;\n",
              "    padding: 0;\n",
              "    width: 32px;\n",
              "  }\n",
              "\n",
              "  .colab-df-quickchart:hover {\n",
              "    background-color: var(--hover-bg-color);\n",
              "    box-shadow: 0 1px 2px rgba(60, 64, 67, 0.3), 0 1px 3px 1px rgba(60, 64, 67, 0.15);\n",
              "    fill: var(--button-hover-fill-color);\n",
              "  }\n",
              "\n",
              "  .colab-df-quickchart-complete:disabled,\n",
              "  .colab-df-quickchart-complete:disabled:hover {\n",
              "    background-color: var(--disabled-bg-color);\n",
              "    fill: var(--disabled-fill-color);\n",
              "    box-shadow: none;\n",
              "  }\n",
              "\n",
              "  .colab-df-spinner {\n",
              "    border: 2px solid var(--fill-color);\n",
              "    border-color: transparent;\n",
              "    border-bottom-color: var(--fill-color);\n",
              "    animation:\n",
              "      spin 1s steps(1) infinite;\n",
              "  }\n",
              "\n",
              "  @keyframes spin {\n",
              "    0% {\n",
              "      border-color: transparent;\n",
              "      border-bottom-color: var(--fill-color);\n",
              "      border-left-color: var(--fill-color);\n",
              "    }\n",
              "    20% {\n",
              "      border-color: transparent;\n",
              "      border-left-color: var(--fill-color);\n",
              "      border-top-color: var(--fill-color);\n",
              "    }\n",
              "    30% {\n",
              "      border-color: transparent;\n",
              "      border-left-color: var(--fill-color);\n",
              "      border-top-color: var(--fill-color);\n",
              "      border-right-color: var(--fill-color);\n",
              "    }\n",
              "    40% {\n",
              "      border-color: transparent;\n",
              "      border-right-color: var(--fill-color);\n",
              "      border-top-color: var(--fill-color);\n",
              "    }\n",
              "    60% {\n",
              "      border-color: transparent;\n",
              "      border-right-color: var(--fill-color);\n",
              "    }\n",
              "    80% {\n",
              "      border-color: transparent;\n",
              "      border-right-color: var(--fill-color);\n",
              "      border-bottom-color: var(--fill-color);\n",
              "    }\n",
              "    90% {\n",
              "      border-color: transparent;\n",
              "      border-bottom-color: var(--fill-color);\n",
              "    }\n",
              "  }\n",
              "</style>\n",
              "\n",
              "      <script>\n",
              "        async function quickchart(key) {\n",
              "          const quickchartButtonEl =\n",
              "            document.querySelector('#' + key + ' button');\n",
              "          quickchartButtonEl.disabled = true;  // To prevent multiple clicks.\n",
              "          quickchartButtonEl.classList.add('colab-df-spinner');\n",
              "          try {\n",
              "            const charts = await google.colab.kernel.invokeFunction(\n",
              "                'suggestCharts', [key], {});\n",
              "          } catch (error) {\n",
              "            console.error('Error during call to suggestCharts:', error);\n",
              "          }\n",
              "          quickchartButtonEl.classList.remove('colab-df-spinner');\n",
              "          quickchartButtonEl.classList.add('colab-df-quickchart-complete');\n",
              "        }\n",
              "        (() => {\n",
              "          let quickchartButtonEl =\n",
              "            document.querySelector('#df-ad86fd28-f7d9-48c0-b3a0-780be8a4a42a button');\n",
              "          quickchartButtonEl.style.display =\n",
              "            google.colab.kernel.accessAllowed ? 'block' : 'none';\n",
              "        })();\n",
              "      </script>\n",
              "    </div>\n",
              "\n",
              "    </div>\n",
              "  </div>\n"
            ],
            "application/vnd.google.colaboratory.intrinsic+json": {
              "type": "dataframe",
              "variable_name": "data"
            }
          },
          "metadata": {},
          "execution_count": 5
        }
      ]
    },
    {
      "cell_type": "code",
      "source": [
        "data.info()"
      ],
      "metadata": {
        "colab": {
          "base_uri": "https://localhost:8080/"
        },
        "id": "cYrwEAYZylVz",
        "outputId": "745697bc-7788-4750-d0f3-76ecd1481936"
      },
      "execution_count": null,
      "outputs": [
        {
          "output_type": "stream",
          "name": "stdout",
          "text": [
            "<class 'pandas.core.frame.DataFrame'>\n",
            "RangeIndex: 151445 entries, 0 to 151444\n",
            "Data columns (total 11 columns):\n",
            " #   Column              Non-Null Count   Dtype \n",
            "---  ------              --------------   ----- \n",
            " 0   work_year           151445 non-null  int64 \n",
            " 1   experience_level    151445 non-null  object\n",
            " 2   employment_type     151445 non-null  object\n",
            " 3   job_title           151445 non-null  object\n",
            " 4   salary              151445 non-null  int64 \n",
            " 5   salary_currency     151445 non-null  object\n",
            " 6   salary_in_usd       151445 non-null  int64 \n",
            " 7   employee_residence  151445 non-null  object\n",
            " 8   remote_ratio        151445 non-null  int64 \n",
            " 9   company_location    151445 non-null  object\n",
            " 10  company_size        151445 non-null  object\n",
            "dtypes: int64(4), object(7)\n",
            "memory usage: 12.7+ MB\n"
          ]
        }
      ]
    },
    {
      "cell_type": "code",
      "source": [
        "data.isnull().sum()"
      ],
      "metadata": {
        "colab": {
          "base_uri": "https://localhost:8080/",
          "height": 429
        },
        "id": "T-YOhebGyusa",
        "outputId": "f33cf80d-950e-4c33-fc86-63f7635334a5"
      },
      "execution_count": null,
      "outputs": [
        {
          "output_type": "execute_result",
          "data": {
            "text/plain": [
              "work_year             0\n",
              "experience_level      0\n",
              "employment_type       0\n",
              "job_title             0\n",
              "salary                0\n",
              "salary_currency       0\n",
              "salary_in_usd         0\n",
              "employee_residence    0\n",
              "remote_ratio          0\n",
              "company_location      0\n",
              "company_size          0\n",
              "dtype: int64"
            ],
            "text/html": [
              "<div>\n",
              "<style scoped>\n",
              "    .dataframe tbody tr th:only-of-type {\n",
              "        vertical-align: middle;\n",
              "    }\n",
              "\n",
              "    .dataframe tbody tr th {\n",
              "        vertical-align: top;\n",
              "    }\n",
              "\n",
              "    .dataframe thead th {\n",
              "        text-align: right;\n",
              "    }\n",
              "</style>\n",
              "<table border=\"1\" class=\"dataframe\">\n",
              "  <thead>\n",
              "    <tr style=\"text-align: right;\">\n",
              "      <th></th>\n",
              "      <th>0</th>\n",
              "    </tr>\n",
              "  </thead>\n",
              "  <tbody>\n",
              "    <tr>\n",
              "      <th>work_year</th>\n",
              "      <td>0</td>\n",
              "    </tr>\n",
              "    <tr>\n",
              "      <th>experience_level</th>\n",
              "      <td>0</td>\n",
              "    </tr>\n",
              "    <tr>\n",
              "      <th>employment_type</th>\n",
              "      <td>0</td>\n",
              "    </tr>\n",
              "    <tr>\n",
              "      <th>job_title</th>\n",
              "      <td>0</td>\n",
              "    </tr>\n",
              "    <tr>\n",
              "      <th>salary</th>\n",
              "      <td>0</td>\n",
              "    </tr>\n",
              "    <tr>\n",
              "      <th>salary_currency</th>\n",
              "      <td>0</td>\n",
              "    </tr>\n",
              "    <tr>\n",
              "      <th>salary_in_usd</th>\n",
              "      <td>0</td>\n",
              "    </tr>\n",
              "    <tr>\n",
              "      <th>employee_residence</th>\n",
              "      <td>0</td>\n",
              "    </tr>\n",
              "    <tr>\n",
              "      <th>remote_ratio</th>\n",
              "      <td>0</td>\n",
              "    </tr>\n",
              "    <tr>\n",
              "      <th>company_location</th>\n",
              "      <td>0</td>\n",
              "    </tr>\n",
              "    <tr>\n",
              "      <th>company_size</th>\n",
              "      <td>0</td>\n",
              "    </tr>\n",
              "  </tbody>\n",
              "</table>\n",
              "</div><br><label><b>dtype:</b> int64</label>"
            ]
          },
          "metadata": {},
          "execution_count": 7
        }
      ]
    },
    {
      "cell_type": "markdown",
      "source": [
        "##  VISUAL GRAPH"
      ],
      "metadata": {
        "id": "wFSxY2vK0P99"
      }
    },
    {
      "cell_type": "code",
      "source": [
        "import matplotlib.pyplot as plt\n",
        "import seaborn as sns"
      ],
      "metadata": {
        "id": "tSFyXx88yxkD"
      },
      "execution_count": null,
      "outputs": []
    },
    {
      "cell_type": "markdown",
      "source": [
        "#Tujuan Analisis 1\n",
        "Mengetahui tren gaji di industri data dan AI (2020 - 2025)"
      ],
      "metadata": {
        "id": "QZIUA5BR11el"
      }
    },
    {
      "cell_type": "code",
      "source": [
        "trend_gaji = data.groupby(\"work_year\")['salary_in_usd'].mean().reset_index()"
      ],
      "metadata": {
        "id": "iYn7e9HV0asD"
      },
      "execution_count": null,
      "outputs": []
    },
    {
      "cell_type": "code",
      "source": [
        "plt.figure(figsize=(8,5))\n",
        "sns.lineplot(x=\"work_year\",y=\"salary_in_usd\",data=trend_gaji, marker=\"o\")\n",
        "plt.fill_between(trend_gaji[\"work_year\"], trend_gaji[\"salary_in_usd\"],alpha=0.2)\n",
        "\n",
        "plt.title(\"Tren Rata-rata Gaji di Industri Data dan Ai (2020-2025)\", fontsize =14)\n",
        "plt.xlabel(\"Tahun Kerja\", fontsize=12)\n",
        "plt.ylabel(\"Rata-rataGaji (USD)\", fontsize=12)\n",
        "plt.grid(alpha=0.3)\n",
        "plt.show()"
      ],
      "metadata": {
        "colab": {
          "base_uri": "https://localhost:8080/",
          "height": 492
        },
        "id": "ff5z9t1_2GUb",
        "outputId": "7b26acb3-3fe2-4039-e1a1-bad51bdda36a"
      },
      "execution_count": null,
      "outputs": [
        {
          "output_type": "display_data",
          "data": {
            "text/plain": [
              "<Figure size 800x500 with 1 Axes>"
            ],
            "image/png": "[encoded data removed]"
          },
          "metadata": {}
        }
      ]
    },
    {
      "cell_type": "markdown",
      "source": [
        "Kesimpulan:\n",
        "\n",
        "Secara keseluruhan, tren gaji di industri Data dan Ai menunjukkan peningkatan dari tahun ke tahun, dengan ase pertumbuhan yang kuat pada 2021-2024. Penurunan di 2025 relatif kecil dan belum cukup mengubah arah tren positif secara keseluruhan."
      ],
      "metadata": {
        "id": "HvFweJS43nz0"
      }
    },
    {
      "cell_type": "markdown",
      "source": [
        "#Tujuan Analisis 2\n",
        "Membandingkan gaji berdasarkan faktor pekerjaan"
      ],
      "metadata": {
        "id": "GrumsswL37Or"
      }
    },
    {
      "cell_type": "markdown",
      "source": [
        "1. Senioritas (`ecperience_level`)"
      ],
      "metadata": {
        "id": "hYAkwTjJ5VPT"
      }
    },
    {
      "cell_type": "code",
      "source": [
        "exp_map = {\n",
        "    \"EN\": \"Entry-level\",\n",
        "    \"MI\": \"Mid-level\",\n",
        "    \"SE\": \"Senior-level\",\n",
        "    \"EX\": \"Executive\"\n",
        "}"
      ],
      "metadata": {
        "id": "MHzW5qP72aBL"
      },
      "execution_count": null,
      "outputs": []
    },
    {
      "cell_type": "code",
      "source": [
        "exp_salary =data.groupby(\"experience_level\")[\"salary_in_usd\"].mean().reset_index()"
      ],
      "metadata": {
        "id": "xEfK7VoA4VCT"
      },
      "execution_count": null,
      "outputs": []
    },
    {
      "cell_type": "code",
      "source": [
        "exp_salary[\"experience_level\"] = exp_salary[\"experience_level\"].map(exp_map)"
      ],
      "metadata": {
        "id": "1iIY_2Uf4iHs"
      },
      "execution_count": null,
      "outputs": []
    },
    {
      "cell_type": "code",
      "source": [
        "sns.barplot(data=exp_salary, x=\"salary_in_usd\", y=\"experience_level\", palette=\"viridis\")"
      ],
      "metadata": {
        "colab": {
          "base_uri": "https://localhost:8080/",
          "height": 561
        },
        "id": "oSGK-ZQn4o7a",
        "outputId": "dcb8f67b-1806-48b8-cc78-779d2a805b56"
      },
      "execution_count": null,
      "outputs": [
        {
          "output_type": "stream",
          "name": "stderr",
          "text": [
            "/tmp/ipython-input-689350538.py:1: FutureWarning: \n",
            "\n",
            "Passing `palette` without assigning `hue` is deprecated and will be removed in v0.14.0. Assign the `y` variable to `hue` and set `legend=False` for the same effect.\n",
            "\n",
            "  sns.barplot(data=exp_salary, x=\"salary_in_usd\", y=\"experience_level\", palette=\"viridis\")\n"
          ]
        },
        {
          "output_type": "execute_result",
          "data": {
            "text/plain": [
              "<Axes: xlabel='salary_in_usd', ylabel='experience_level'>"
            ]
          },
          "metadata": {},
          "execution_count": 21
        },
        {
          "output_type": "display_data",
          "data": {
            "text/plain": [
              "<Figure size 640x480 with 1 Axes>"
            ],
            "image/png": "[encoded data removed]"
          },
          "metadata": {}
        }
      ]
    },
    {
      "cell_type": "markdown",
      "source": [
        "2. Job Title (`job_title`)"
      ],
      "metadata": {
        "id": "zGmOnRiB5ad7"
      }
    },
    {
      "cell_type": "code",
      "source": [
        "job_salary = data.groupby(\"job_title\")[\"salary_in_usd\"].mean().reset_index()\n",
        "\n",
        "top_jobs = job_salary.sort_values(by=\"salary_in_usd\", ascending=False).head(10)"
      ],
      "metadata": {
        "id": "7RJrx_pv47Ab"
      },
      "execution_count": null,
      "outputs": []
    },
    {
      "cell_type": "code",
      "source": [
        "sns.barplot(data=top_jobs, x=\"salary_in_usd\", y=\"job_title\", palette=\"magma\")"
      ],
      "metadata": {
        "colab": {
          "base_uri": "https://localhost:8080/",
          "height": 561
        },
        "id": "OUPeX5w85xKi",
        "outputId": "0805983e-4543-4194-eeec-8b5ac6b22c9b"
      },
      "execution_count": null,
      "outputs": [
        {
          "output_type": "stream",
          "name": "stderr",
          "text": [
            "/tmp/ipython-input-1450798369.py:1: FutureWarning: \n",
            "\n",
            "Passing `palette` without assigning `hue` is deprecated and will be removed in v0.14.0. Assign the `y` variable to `hue` and set `legend=False` for the same effect.\n",
            "\n",
            "  sns.barplot(data=top_jobs, x=\"salary_in_usd\", y=\"job_title\", palette=\"magma\")\n"
          ]
        },
        {
          "output_type": "execute_result",
          "data": {
            "text/plain": [
              "<Axes: xlabel='salary_in_usd', ylabel='job_title'>"
            ]
          },
          "metadata": {},
          "execution_count": 23
        },
        {
          "output_type": "display_data",
          "data": {
            "text/plain": [
              "<Figure size 640x480 with 1 Axes>"
            ],
            "image/png": "[encoded data removed]"
          },
          "metadata": {}
        }
      ]
    },
    {
      "cell_type": "markdown",
      "source": [
        "3. Tipe Pekerja (`employment_type`)"
      ],
      "metadata": {
        "id": "58CNtThU58S7"
      }
    },
    {
      "cell_type": "code",
      "source": [
        "type_map = {\n",
        "    \"FT\": \"Full-time\",\n",
        "    \"PT\": \"Part-time\",\n",
        "    \"CT\": \"Contract\",\n",
        "    \"FL\": \"Freelance\"\n",
        "}"
      ],
      "metadata": {
        "id": "EzQIXNH152ia"
      },
      "execution_count": null,
      "outputs": []
    },
    {
      "cell_type": "code",
      "source": [
        "type_salary = data.groupby(\"employment_type\")[\"salary_in_usd\"].mean().reset_index()\n",
        "\n",
        "type_salary[\"employment_type\"] = type_salary[\"employment_type\"].map(type_map)"
      ],
      "metadata": {
        "id": "1LWodySg6DyK"
      },
      "execution_count": null,
      "outputs": []
    },
    {
      "cell_type": "code",
      "source": [
        "sns.barplot(data=type_salary, x=\"salary_in_usd\", y=\"employment_type\", palette=\"coolwarm\")"
      ],
      "metadata": {
        "colab": {
          "base_uri": "https://localhost:8080/",
          "height": 561
        },
        "id": "FIqIEL656N4C",
        "outputId": "d69a7572-1dc1-408b-e9de-19cc6cb7f3a6"
      },
      "execution_count": null,
      "outputs": [
        {
          "output_type": "stream",
          "name": "stderr",
          "text": [
            "/tmp/ipython-input-3373294748.py:1: FutureWarning: \n",
            "\n",
            "Passing `palette` without assigning `hue` is deprecated and will be removed in v0.14.0. Assign the `y` variable to `hue` and set `legend=False` for the same effect.\n",
            "\n",
            "  sns.barplot(data=type_salary, x=\"salary_in_usd\", y=\"employment_type\", palette=\"coolwarm\")\n"
          ]
        },
        {
          "output_type": "execute_result",
          "data": {
            "text/plain": [
              "<Axes: xlabel='salary_in_usd', ylabel='employment_type'>"
            ]
          },
          "metadata": {},
          "execution_count": 29
        },
        {
          "output_type": "display_data",
          "data": {
            "text/plain": [
              "<Figure size 640x480 with 1 Axes>"
            ],
            "image/png": "[encoded data removed]"
          },
          "metadata": {}
        }
      ]
    },
    {
      "cell_type": "markdown",
      "source": [
        "Kesimpulan:\n",
        "\n",
        "Senioritas dan jenis pekerjaan memiliki pengaruh besar terhadap gaji di industri Data dan AI, dengan Executive dan posisi kepemimpinan teknis berada di puncak. Tipe pekerjaan full-time memberikan komensasi tahunan tertinggi dibanding tipe pekerjaan lainnya."
      ],
      "metadata": {
        "id": "f6OabRIo7FUT"
      }
    },
    {
      "cell_type": "markdown",
      "source": [
        "#Tujuan Analisis 3\n",
        "Mengevaluasi pengaruh lokasi dan remote work terhadap gaji"
      ],
      "metadata": {
        "id": "3aQsFJX58GgE"
      }
    },
    {
      "cell_type": "markdown",
      "source": [
        "1. Negara dengan gaji tertinggi"
      ],
      "metadata": {
        "id": "Q0dTnlKj8rZ8"
      }
    },
    {
      "cell_type": "code",
      "source": [
        "country_salary = data.groupby(\"employee_residence\")[\"salary_in_usd\"].mean().reset_index()\n",
        "\n",
        "country_salary = country_salary.sort_values(by=\"salary_in_usd\", ascending=False)\n",
        "\n",
        "top_countries = country_salary.head()"
      ],
      "metadata": {
        "id": "g_anXCTX7IKq"
      },
      "execution_count": null,
      "outputs": []
    },
    {
      "cell_type": "code",
      "source": [
        "sns.barplot(data=top_countries, x=\"salary_in_usd\", y=\"employee_residence\", palette=\"crest\")"
      ],
      "metadata": {
        "colab": {
          "base_uri": "https://localhost:8080/",
          "height": 561
        },
        "id": "yHvv2wca8h6C",
        "outputId": "93afccde-99c9-425b-88e1-f20292d99bf7"
      },
      "execution_count": null,
      "outputs": [
        {
          "output_type": "stream",
          "name": "stderr",
          "text": [
            "/tmp/ipython-input-799286377.py:1: FutureWarning: \n",
            "\n",
            "Passing `palette` without assigning `hue` is deprecated and will be removed in v0.14.0. Assign the `y` variable to `hue` and set `legend=False` for the same effect.\n",
            "\n",
            "  sns.barplot(data=top_countries, x=\"salary_in_usd\", y=\"employee_residence\", palette=\"crest\")\n"
          ]
        },
        {
          "output_type": "execute_result",
          "data": {
            "text/plain": [
              "<Axes: xlabel='salary_in_usd', ylabel='employee_residence'>"
            ]
          },
          "metadata": {},
          "execution_count": 31
        },
        {
          "output_type": "display_data",
          "data": {
            "text/plain": [
              "<Figure size 640x480 with 1 Axes>"
            ],
            "image/png": "[encoded data removed]"
          },
          "metadata": {}
        }
      ]
    },
    {
      "cell_type": "markdown",
      "source": [
        "2. Remote ratio vs gaji"
      ],
      "metadata": {
        "id": "a9Fc77y78vzK"
      }
    },
    {
      "cell_type": "code",
      "source": [
        "remote_map = {\n",
        "    0: \"On-site\",\n",
        "    50: \"Hybrid\",\n",
        "    100: \"Remote\"\n",
        "}"
      ],
      "metadata": {
        "id": "Qi44joay8mNS"
      },
      "execution_count": null,
      "outputs": []
    },
    {
      "cell_type": "code",
      "source": [
        "remote_salary = data.groupby(\"remote_ratio\")[\"salary_in_usd\"].mean().reset_index()\n",
        "\n",
        "remote_salary[\"remote_ratio\"] = remote_salary[\"remote_ratio\"].map(remote_map)"
      ],
      "metadata": {
        "id": "oCnQuJ6D8_Ck"
      },
      "execution_count": null,
      "outputs": []
    },
    {
      "cell_type": "code",
      "source": [
        "sns.barplot(data=remote_salary, x=\"remote_ratio\", y=\"salary_in_usd\", palette=\"coolwarm\")"
      ],
      "metadata": {
        "colab": {
          "base_uri": "https://localhost:8080/",
          "height": 561
        },
        "id": "h1n7uz4_9CQy",
        "outputId": "7b255b74-10af-4dc9-e560-b686dc673eb4"
      },
      "execution_count": null,
      "outputs": [
        {
          "output_type": "stream",
          "name": "stderr",
          "text": [
            "/tmp/ipython-input-2061288195.py:1: FutureWarning: \n",
            "\n",
            "Passing `palette` without assigning `hue` is deprecated and will be removed in v0.14.0. Assign the `x` variable to `hue` and set `legend=False` for the same effect.\n",
            "\n",
            "  sns.barplot(data=remote_salary, x=\"remote_ratio\", y=\"salary_in_usd\", palette=\"coolwarm\")\n"
          ]
        },
        {
          "output_type": "execute_result",
          "data": {
            "text/plain": [
              "<Axes: xlabel='remote_ratio', ylabel='salary_in_usd'>"
            ]
          },
          "metadata": {},
          "execution_count": 34
        },
        {
          "output_type": "display_data",
          "data": {
            "text/plain": [
              "<Figure size 640x480 with 1 Axes>"
            ],
            "image/png": "[encoded data removed]"
          },
          "metadata": {}
        }
      ]
    },
    {
      "cell_type": "markdown",
      "source": [
        "Kesimpulan:\n",
        "\n",
        "Lokasi kerja tentap menjadi faktor penting dalam menentukan besaran gaji di industri Data dan AI. Meskipun tren global menunjukkan peningkatan popularitas kerja jarak jauh, dalam dataset ini pekerjaan On-Site masih emberikan komensasi sedikit lebih tinggi dibandingkan Remote, sementara Hybrid justru jauh lebih rendah."
      ],
      "metadata": {
        "id": "WurBoq4c9qmg"
      }
    },
    {
      "cell_type": "markdown",
      "source": [
        "Insight:\n",
        "Meskipun rata-rata gaji untuk tipe kerja Hybrid terlihat jauh lebih rendah dibanding On-site dan Remote, hasil ini tidak sepenuhnya representatif karena jumlah sampel Hybrid sangat kecil (329 entri) dibanding kategori lain. Selain itu, distribusi pekerja Hybrid kemungkinan terkonsentrasi pada lokasi atau pekerjaan dengan kompensasi lebih rendah.\n",
        "\n"
      ],
      "metadata": {
        "id": "zUbcC1I3_Ux8"
      }
    },
    {
      "cell_type": "markdown",
      "source": [
        "| Remote Type | Mean (USD) | Median (USD) |   Count |\n",
        "| ----------- | ---------: | -----------: | ------: |\n",
        "| On-site     |    159,383 |      147,000 | 119,570 |\n",
        "| Hybrid      |     81,712 |       69,999 | 329 |\n",
        "| Remote      |    151,286 |      145,000 |  31,546 |\n"
      ],
      "metadata": {
        "id": "4Ysqv71D_eiq"
      }
    }
  ]
}